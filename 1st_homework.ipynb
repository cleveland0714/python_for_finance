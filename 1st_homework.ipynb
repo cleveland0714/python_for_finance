{
 "cells": [
  {
   "cell_type": "code",
   "execution_count": 1,
   "metadata": {},
   "outputs": [],
   "source": [
    "%matplotlib inline\n",
    "import numpy as np\n",
    "import numpy.polynomial.polynomial as pol\n",
    "import matplotlib.pyplot as plt"
   ]
  },
  {
   "cell_type": "code",
   "execution_count": 2,
   "metadata": {},
   "outputs": [],
   "source": [
    "def NPV(r, CF):\n",
    "    # r: 割引率(%)\n",
    "    # CF: キャッシュフロー\n",
    "    # output : 正味現在価値\n",
    "    x = np.exp((-1)*r)\n",
    "    return pol.polyval(x, CF)"
   ]
  },
  {
   "cell_type": "code",
   "execution_count": 3,
   "metadata": {},
   "outputs": [],
   "source": [
    "def IRR(CF):\n",
    "    Roots = pol.polyroots(CF)\n",
    "    Real = np.real(Roots[np.isreal(Roots)])\n",
    "    Positive = (Real[Real > 0.0]).item(0)\n",
    "    return (-1)* np.log(Positive) * 100"
   ]
  },
  {
   "cell_type": "code",
   "execution_count": 4,
   "metadata": {},
   "outputs": [],
   "source": [
    "Periods = np.linspace(0, 4, 5)\n",
    "V_CF = np.array([[-5.0, 1.5, 1.5, 1.5, 1.5],\n",
    "                 [-7.0, 2.0, 2.0, 2.0, 2.0],\n",
    "                 [-9.0, 4.0, 3.0, 2.0, 1.0],\n",
    "                 [-9.0, 1.0, 2.0, 3.0, 4.0]])"
   ]
  },
  {
   "cell_type": "code",
   "execution_count": 5,
   "metadata": {},
   "outputs": [],
   "source": [
    "r = 0.05\n",
    "V_NPV = np.zeros(4)\n",
    "for cf_num in range(4):\n",
    "    V_NPV[cf_num] = NPV(r, V_CF[cf_num, :])\n",
    "V_IRR = np.zeros(4)\n",
    "for cf_num in range(4):\n",
    "    V_IRR[cf_num] = IRR(V_CF[cf_num, :])"
   ]
  },
  {
   "cell_type": "code",
   "execution_count": 6,
   "metadata": {},
   "outputs": [
    {
     "name": "stdout",
     "output_type": "stream",
     "text": [
      "[ 0.30325836  0.07101114  0.05957666 -0.3820488 ]\n"
     ]
    }
   ],
   "source": [
    "print(V_NPV)"
   ]
  },
  {
   "cell_type": "code",
   "execution_count": 7,
   "metadata": {},
   "outputs": [
    {
     "name": "stdout",
     "output_type": "stream",
     "text": [
      "[7.43079628 5.41451779 5.33850105 3.53296548]\n"
     ]
    }
   ],
   "source": [
    "print(V_IRR)"
   ]
  },
  {
   "cell_type": "code",
   "execution_count": null,
   "metadata": {},
   "outputs": [],
   "source": []
  }
 ],
 "metadata": {
  "kernelspec": {
   "display_name": "Python (Finance)",
   "language": "python",
   "name": "finance"
  },
  "language_info": {
   "codemirror_mode": {
    "name": "ipython",
    "version": 3
   },
   "file_extension": ".py",
   "mimetype": "text/x-python",
   "name": "python",
   "nbconvert_exporter": "python",
   "pygments_lexer": "ipython3",
   "version": "3.7.4"
  }
 },
 "nbformat": 4,
 "nbformat_minor": 2
}
